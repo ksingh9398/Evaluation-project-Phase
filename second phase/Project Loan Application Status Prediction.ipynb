{
 "cells": [
  {
   "cell_type": "markdown",
   "id": "16da4480",
   "metadata": {},
   "source": [
    "## LOAN  PREDICTION  USING  MACHINE  LEARNING"
   ]
  },
  {
   "cell_type": "markdown",
   "id": "76a5629c",
   "metadata": {},
   "source": [
    "# Project Description\n",
    "This dataset includes details of applicants who have applied for loan. The dataset includes details like credit history, loan amount, their income, dependents etc.\n",
    "\n",
    "Check More Details About This Project --> https://github.com/ksingh9398/Internship-Project/blob/main/second-phase-evaluation-projects--1-.pdf (Project No-3 rd)\n",
    "\n",
    "Check Dataset--> https://github.com/dsrscientist/DSData/blob/master/loan_prediction.csv\n",
    "\n",
    "You have to build a model that can predict whether the loan of the applicant will be approved(Loan_status) or not on the basis of the details provided in the dataset."
   ]
  },
  {
   "cell_type": "code",
   "execution_count": 1,
   "id": "2f473b2b",
   "metadata": {},
   "outputs": [],
   "source": [
    "# importing essential libraries\n",
    "\n",
    "import pandas as pd\n",
    "import numpy as np\n",
    "import matplotlib.pyplot as plt\n",
    "import seaborn as sns\n",
    "import warnings\n",
    "warnings.filterwarnings(\"ignore\")"
   ]
  },
  {
   "cell_type": "code",
   "execution_count": 2,
   "id": "648a2e3f",
   "metadata": {},
   "outputs": [],
   "source": [
    "# reading csv file\n",
    "loan_data = pd.read_csv(\"loan_prediction.csv\")"
   ]
  },
  {
   "cell_type": "code",
   "execution_count": 3,
   "id": "14523598",
   "metadata": {},
   "outputs": [
    {
     "data": {
      "text/html": [
       "<div>\n",
       "<style scoped>\n",
       "    .dataframe tbody tr th:only-of-type {\n",
       "        vertical-align: middle;\n",
       "    }\n",
       "\n",
       "    .dataframe tbody tr th {\n",
       "        vertical-align: top;\n",
       "    }\n",
       "\n",
       "    .dataframe thead th {\n",
       "        text-align: right;\n",
       "    }\n",
       "</style>\n",
       "<table border=\"1\" class=\"dataframe\">\n",
       "  <thead>\n",
       "    <tr style=\"text-align: right;\">\n",
       "      <th></th>\n",
       "      <th>Loan_ID</th>\n",
       "      <th>Gender</th>\n",
       "      <th>Married</th>\n",
       "      <th>Dependents</th>\n",
       "      <th>Education</th>\n",
       "      <th>Self_Employed</th>\n",
       "      <th>ApplicantIncome</th>\n",
       "      <th>CoapplicantIncome</th>\n",
       "      <th>LoanAmount</th>\n",
       "      <th>Loan_Amount_Term</th>\n",
       "      <th>Credit_History</th>\n",
       "      <th>Property_Area</th>\n",
       "      <th>Loan_Status</th>\n",
       "    </tr>\n",
       "  </thead>\n",
       "  <tbody>\n",
       "    <tr>\n",
       "      <th>0</th>\n",
       "      <td>LP001002</td>\n",
       "      <td>Male</td>\n",
       "      <td>No</td>\n",
       "      <td>0</td>\n",
       "      <td>Graduate</td>\n",
       "      <td>No</td>\n",
       "      <td>5849</td>\n",
       "      <td>0.0</td>\n",
       "      <td>NaN</td>\n",
       "      <td>360.0</td>\n",
       "      <td>1.0</td>\n",
       "      <td>Urban</td>\n",
       "      <td>Y</td>\n",
       "    </tr>\n",
       "    <tr>\n",
       "      <th>1</th>\n",
       "      <td>LP001003</td>\n",
       "      <td>Male</td>\n",
       "      <td>Yes</td>\n",
       "      <td>1</td>\n",
       "      <td>Graduate</td>\n",
       "      <td>No</td>\n",
       "      <td>4583</td>\n",
       "      <td>1508.0</td>\n",
       "      <td>128.0</td>\n",
       "      <td>360.0</td>\n",
       "      <td>1.0</td>\n",
       "      <td>Rural</td>\n",
       "      <td>N</td>\n",
       "    </tr>\n",
       "    <tr>\n",
       "      <th>2</th>\n",
       "      <td>LP001005</td>\n",
       "      <td>Male</td>\n",
       "      <td>Yes</td>\n",
       "      <td>0</td>\n",
       "      <td>Graduate</td>\n",
       "      <td>Yes</td>\n",
       "      <td>3000</td>\n",
       "      <td>0.0</td>\n",
       "      <td>66.0</td>\n",
       "      <td>360.0</td>\n",
       "      <td>1.0</td>\n",
       "      <td>Urban</td>\n",
       "      <td>Y</td>\n",
       "    </tr>\n",
       "    <tr>\n",
       "      <th>3</th>\n",
       "      <td>LP001006</td>\n",
       "      <td>Male</td>\n",
       "      <td>Yes</td>\n",
       "      <td>0</td>\n",
       "      <td>Not Graduate</td>\n",
       "      <td>No</td>\n",
       "      <td>2583</td>\n",
       "      <td>2358.0</td>\n",
       "      <td>120.0</td>\n",
       "      <td>360.0</td>\n",
       "      <td>1.0</td>\n",
       "      <td>Urban</td>\n",
       "      <td>Y</td>\n",
       "    </tr>\n",
       "    <tr>\n",
       "      <th>4</th>\n",
       "      <td>LP001008</td>\n",
       "      <td>Male</td>\n",
       "      <td>No</td>\n",
       "      <td>0</td>\n",
       "      <td>Graduate</td>\n",
       "      <td>No</td>\n",
       "      <td>6000</td>\n",
       "      <td>0.0</td>\n",
       "      <td>141.0</td>\n",
       "      <td>360.0</td>\n",
       "      <td>1.0</td>\n",
       "      <td>Urban</td>\n",
       "      <td>Y</td>\n",
       "    </tr>\n",
       "  </tbody>\n",
       "</table>\n",
       "</div>"
      ],
      "text/plain": [
       "    Loan_ID Gender Married Dependents     Education Self_Employed  \\\n",
       "0  LP001002   Male      No          0      Graduate            No   \n",
       "1  LP001003   Male     Yes          1      Graduate            No   \n",
       "2  LP001005   Male     Yes          0      Graduate           Yes   \n",
       "3  LP001006   Male     Yes          0  Not Graduate            No   \n",
       "4  LP001008   Male      No          0      Graduate            No   \n",
       "\n",
       "   ApplicantIncome  CoapplicantIncome  LoanAmount  Loan_Amount_Term  \\\n",
       "0             5849                0.0         NaN             360.0   \n",
       "1             4583             1508.0       128.0             360.0   \n",
       "2             3000                0.0        66.0             360.0   \n",
       "3             2583             2358.0       120.0             360.0   \n",
       "4             6000                0.0       141.0             360.0   \n",
       "\n",
       "   Credit_History Property_Area Loan_Status  \n",
       "0             1.0         Urban           Y  \n",
       "1             1.0         Rural           N  \n",
       "2             1.0         Urban           Y  \n",
       "3             1.0         Urban           Y  \n",
       "4             1.0         Urban           Y  "
      ]
     },
     "execution_count": 3,
     "metadata": {},
     "output_type": "execute_result"
    }
   ],
   "source": [
    "# printing first five rows of dataset\n",
    "loan_data.head(5)"
   ]
  },
  {
   "cell_type": "code",
   "execution_count": 4,
   "id": "30447c87",
   "metadata": {},
   "outputs": [
    {
     "data": {
      "text/html": [
       "<div>\n",
       "<style scoped>\n",
       "    .dataframe tbody tr th:only-of-type {\n",
       "        vertical-align: middle;\n",
       "    }\n",
       "\n",
       "    .dataframe tbody tr th {\n",
       "        vertical-align: top;\n",
       "    }\n",
       "\n",
       "    .dataframe thead th {\n",
       "        text-align: right;\n",
       "    }\n",
       "</style>\n",
       "<table border=\"1\" class=\"dataframe\">\n",
       "  <thead>\n",
       "    <tr style=\"text-align: right;\">\n",
       "      <th></th>\n",
       "      <th>Loan_ID</th>\n",
       "      <th>Gender</th>\n",
       "      <th>Married</th>\n",
       "      <th>Dependents</th>\n",
       "      <th>Education</th>\n",
       "      <th>Self_Employed</th>\n",
       "      <th>ApplicantIncome</th>\n",
       "      <th>CoapplicantIncome</th>\n",
       "      <th>LoanAmount</th>\n",
       "      <th>Loan_Amount_Term</th>\n",
       "      <th>Credit_History</th>\n",
       "      <th>Property_Area</th>\n",
       "      <th>Loan_Status</th>\n",
       "    </tr>\n",
       "  </thead>\n",
       "  <tbody>\n",
       "    <tr>\n",
       "      <th>609</th>\n",
       "      <td>LP002978</td>\n",
       "      <td>Female</td>\n",
       "      <td>No</td>\n",
       "      <td>0</td>\n",
       "      <td>Graduate</td>\n",
       "      <td>No</td>\n",
       "      <td>2900</td>\n",
       "      <td>0.0</td>\n",
       "      <td>71.0</td>\n",
       "      <td>360.0</td>\n",
       "      <td>1.0</td>\n",
       "      <td>Rural</td>\n",
       "      <td>Y</td>\n",
       "    </tr>\n",
       "    <tr>\n",
       "      <th>610</th>\n",
       "      <td>LP002979</td>\n",
       "      <td>Male</td>\n",
       "      <td>Yes</td>\n",
       "      <td>3+</td>\n",
       "      <td>Graduate</td>\n",
       "      <td>No</td>\n",
       "      <td>4106</td>\n",
       "      <td>0.0</td>\n",
       "      <td>40.0</td>\n",
       "      <td>180.0</td>\n",
       "      <td>1.0</td>\n",
       "      <td>Rural</td>\n",
       "      <td>Y</td>\n",
       "    </tr>\n",
       "    <tr>\n",
       "      <th>611</th>\n",
       "      <td>LP002983</td>\n",
       "      <td>Male</td>\n",
       "      <td>Yes</td>\n",
       "      <td>1</td>\n",
       "      <td>Graduate</td>\n",
       "      <td>No</td>\n",
       "      <td>8072</td>\n",
       "      <td>240.0</td>\n",
       "      <td>253.0</td>\n",
       "      <td>360.0</td>\n",
       "      <td>1.0</td>\n",
       "      <td>Urban</td>\n",
       "      <td>Y</td>\n",
       "    </tr>\n",
       "    <tr>\n",
       "      <th>612</th>\n",
       "      <td>LP002984</td>\n",
       "      <td>Male</td>\n",
       "      <td>Yes</td>\n",
       "      <td>2</td>\n",
       "      <td>Graduate</td>\n",
       "      <td>No</td>\n",
       "      <td>7583</td>\n",
       "      <td>0.0</td>\n",
       "      <td>187.0</td>\n",
       "      <td>360.0</td>\n",
       "      <td>1.0</td>\n",
       "      <td>Urban</td>\n",
       "      <td>Y</td>\n",
       "    </tr>\n",
       "    <tr>\n",
       "      <th>613</th>\n",
       "      <td>LP002990</td>\n",
       "      <td>Female</td>\n",
       "      <td>No</td>\n",
       "      <td>0</td>\n",
       "      <td>Graduate</td>\n",
       "      <td>Yes</td>\n",
       "      <td>4583</td>\n",
       "      <td>0.0</td>\n",
       "      <td>133.0</td>\n",
       "      <td>360.0</td>\n",
       "      <td>0.0</td>\n",
       "      <td>Semiurban</td>\n",
       "      <td>N</td>\n",
       "    </tr>\n",
       "  </tbody>\n",
       "</table>\n",
       "</div>"
      ],
      "text/plain": [
       "      Loan_ID  Gender Married Dependents Education Self_Employed  \\\n",
       "609  LP002978  Female      No          0  Graduate            No   \n",
       "610  LP002979    Male     Yes         3+  Graduate            No   \n",
       "611  LP002983    Male     Yes          1  Graduate            No   \n",
       "612  LP002984    Male     Yes          2  Graduate            No   \n",
       "613  LP002990  Female      No          0  Graduate           Yes   \n",
       "\n",
       "     ApplicantIncome  CoapplicantIncome  LoanAmount  Loan_Amount_Term  \\\n",
       "609             2900                0.0        71.0             360.0   \n",
       "610             4106                0.0        40.0             180.0   \n",
       "611             8072              240.0       253.0             360.0   \n",
       "612             7583                0.0       187.0             360.0   \n",
       "613             4583                0.0       133.0             360.0   \n",
       "\n",
       "     Credit_History Property_Area Loan_Status  \n",
       "609             1.0         Rural           Y  \n",
       "610             1.0         Rural           Y  \n",
       "611             1.0         Urban           Y  \n",
       "612             1.0         Urban           Y  \n",
       "613             0.0     Semiurban           N  "
      ]
     },
     "execution_count": 4,
     "metadata": {},
     "output_type": "execute_result"
    }
   ],
   "source": [
    "# Printing last five rows of datset\n",
    "loan_data.tail(5)"
   ]
  },
  {
   "cell_type": "code",
   "execution_count": 5,
   "id": "ed3b9384",
   "metadata": {},
   "outputs": [
    {
     "data": {
      "text/plain": [
       "['Loan_ID',\n",
       " 'Gender',\n",
       " 'Married',\n",
       " 'Dependents',\n",
       " 'Education',\n",
       " 'Self_Employed',\n",
       " 'ApplicantIncome',\n",
       " 'CoapplicantIncome',\n",
       " 'LoanAmount',\n",
       " 'Loan_Amount_Term',\n",
       " 'Credit_History',\n",
       " 'Property_Area',\n",
       " 'Loan_Status']"
      ]
     },
     "execution_count": 5,
     "metadata": {},
     "output_type": "execute_result"
    }
   ],
   "source": [
    "loan_data.columns.tolist()"
   ]
  },
  {
   "cell_type": "code",
   "execution_count": 6,
   "id": "66dd0cfb",
   "metadata": {},
   "outputs": [
    {
     "data": {
      "text/plain": [
       "(614, 13)"
      ]
     },
     "execution_count": 6,
     "metadata": {},
     "output_type": "execute_result"
    }
   ],
   "source": [
    "# Obtaining the dimensions of dataset\n",
    "loan_data.shape"
   ]
  },
  {
   "cell_type": "markdown",
   "id": "3ff496ef",
   "metadata": {},
   "source": [
    "In this data set there are there are 12 independent columns and one of dependent column with 614 rows"
   ]
  },
  {
   "cell_type": "code",
   "execution_count": 7,
   "id": "ddffb24f",
   "metadata": {
    "scrolled": true
   },
   "outputs": [
    {
     "name": "stdout",
     "output_type": "stream",
     "text": [
      "<class 'pandas.core.frame.DataFrame'>\n",
      "RangeIndex: 614 entries, 0 to 613\n",
      "Data columns (total 13 columns):\n",
      " #   Column             Non-Null Count  Dtype  \n",
      "---  ------             --------------  -----  \n",
      " 0   Loan_ID            614 non-null    object \n",
      " 1   Gender             601 non-null    object \n",
      " 2   Married            611 non-null    object \n",
      " 3   Dependents         599 non-null    object \n",
      " 4   Education          614 non-null    object \n",
      " 5   Self_Employed      582 non-null    object \n",
      " 6   ApplicantIncome    614 non-null    int64  \n",
      " 7   CoapplicantIncome  614 non-null    float64\n",
      " 8   LoanAmount         592 non-null    float64\n",
      " 9   Loan_Amount_Term   600 non-null    float64\n",
      " 10  Credit_History     564 non-null    float64\n",
      " 11  Property_Area      614 non-null    object \n",
      " 12  Loan_Status        614 non-null    object \n",
      "dtypes: float64(4), int64(1), object(8)\n",
      "memory usage: 62.5+ KB\n"
     ]
    }
   ],
   "source": [
    "# Statistical summary of dataset\n",
    "loan_data.info()"
   ]
  },
  {
   "cell_type": "markdown",
   "id": "309aa66b",
   "metadata": {},
   "source": [
    "This gives the brief information about the dataset which includes indexing type, column type, o null values and memory usage."
   ]
  },
  {
   "cell_type": "code",
   "execution_count": 8,
   "id": "f13bf22d",
   "metadata": {},
   "outputs": [
    {
     "data": {
      "text/plain": [
       "Loan_ID               0\n",
       "Gender               13\n",
       "Married               3\n",
       "Dependents           15\n",
       "Education             0\n",
       "Self_Employed        32\n",
       "ApplicantIncome       0\n",
       "CoapplicantIncome     0\n",
       "LoanAmount           22\n",
       "Loan_Amount_Term     14\n",
       "Credit_History       50\n",
       "Property_Area         0\n",
       "Loan_Status           0\n",
       "dtype: int64"
      ]
     },
     "execution_count": 8,
     "metadata": {},
     "output_type": "execute_result"
    }
   ],
   "source": [
    "# Check null values\n",
    "loan_data.isnull().sum()"
   ]
  },
  {
   "cell_type": "code",
   "execution_count": 9,
   "id": "02c0a71e",
   "metadata": {},
   "outputs": [
    {
     "data": {
      "text/plain": [
       "<Axes: >"
      ]
     },
     "execution_count": 9,
     "metadata": {},
     "output_type": "execute_result"
    },
    {
     "data": {
      "image/png": "[encoded data removed]",
      "text/plain": [
       "<Figure size 640x480 with 2 Axes>"
      ]
     },
     "metadata": {},
     "output_type": "display_data"
    }
   ],
   "source": [
    "# Check Null values by Heatmap\n",
    "sns.heatmap(loan_data.isnull())"
   ]
  },
  {
   "cell_type": "markdown",
   "id": "9a079eed",
   "metadata": {},
   "source": [
    "here we can see that ther are null values are present in some columns"
   ]
  },
  {
   "cell_type": "code",
   "execution_count": null,
   "id": "44e44191",
   "metadata": {},
   "outputs": [],
   "source": []
  },
  {
   "cell_type": "code",
   "execution_count": 10,
   "id": "931739aa",
   "metadata": {},
   "outputs": [],
   "source": [
    "                    # Dealing with Categorical values\n",
    "    \n",
    "# Gender Column\n",
    "loan_data['Gender'] =  loan_data['Gender'].map({'Male':0,'Female':1})\n",
    "\n",
    "# Married column\n",
    "loan_data['Married'] = loan_data['Married'].map({'No':0,'Yes':1})\n",
    "\n",
    "# Loan_Status column\n",
    "loan_data['Loan_Status'] =loan_data['Loan_Status'].map({'N':0,'Y':1})"
   ]
  },
  {
   "cell_type": "code",
   "execution_count": 11,
   "id": "00f6601f",
   "metadata": {
    "scrolled": true
   },
   "outputs": [
    {
     "data": {
      "text/html": [
       "<div>\n",
       "<style scoped>\n",
       "    .dataframe tbody tr th:only-of-type {\n",
       "        vertical-align: middle;\n",
       "    }\n",
       "\n",
       "    .dataframe tbody tr th {\n",
       "        vertical-align: top;\n",
       "    }\n",
       "\n",
       "    .dataframe thead th {\n",
       "        text-align: right;\n",
       "    }\n",
       "</style>\n",
       "<table border=\"1\" class=\"dataframe\">\n",
       "  <thead>\n",
       "    <tr style=\"text-align: right;\">\n",
       "      <th></th>\n",
       "      <th>Loan_ID</th>\n",
       "      <th>Gender</th>\n",
       "      <th>Married</th>\n",
       "      <th>Dependents</th>\n",
       "      <th>Education</th>\n",
       "      <th>Self_Employed</th>\n",
       "      <th>ApplicantIncome</th>\n",
       "      <th>CoapplicantIncome</th>\n",
       "      <th>LoanAmount</th>\n",
       "      <th>Loan_Amount_Term</th>\n",
       "      <th>Credit_History</th>\n",
       "      <th>Property_Area</th>\n",
       "      <th>Loan_Status</th>\n",
       "    </tr>\n",
       "  </thead>\n",
       "  <tbody>\n",
       "    <tr>\n",
       "      <th>0</th>\n",
       "      <td>LP001002</td>\n",
       "      <td>0.0</td>\n",
       "      <td>0.0</td>\n",
       "      <td>0</td>\n",
       "      <td>Graduate</td>\n",
       "      <td>No</td>\n",
       "      <td>5849</td>\n",
       "      <td>0.0</td>\n",
       "      <td>NaN</td>\n",
       "      <td>360.0</td>\n",
       "      <td>1.0</td>\n",
       "      <td>Urban</td>\n",
       "      <td>1</td>\n",
       "    </tr>\n",
       "    <tr>\n",
       "      <th>1</th>\n",
       "      <td>LP001003</td>\n",
       "      <td>0.0</td>\n",
       "      <td>1.0</td>\n",
       "      <td>1</td>\n",
       "      <td>Graduate</td>\n",
       "      <td>No</td>\n",
       "      <td>4583</td>\n",
       "      <td>1508.0</td>\n",
       "      <td>128.0</td>\n",
       "      <td>360.0</td>\n",
       "      <td>1.0</td>\n",
       "      <td>Rural</td>\n",
       "      <td>0</td>\n",
       "    </tr>\n",
       "    <tr>\n",
       "      <th>2</th>\n",
       "      <td>LP001005</td>\n",
       "      <td>0.0</td>\n",
       "      <td>1.0</td>\n",
       "      <td>0</td>\n",
       "      <td>Graduate</td>\n",
       "      <td>Yes</td>\n",
       "      <td>3000</td>\n",
       "      <td>0.0</td>\n",
       "      <td>66.0</td>\n",
       "      <td>360.0</td>\n",
       "      <td>1.0</td>\n",
       "      <td>Urban</td>\n",
       "      <td>1</td>\n",
       "    </tr>\n",
       "    <tr>\n",
       "      <th>3</th>\n",
       "      <td>LP001006</td>\n",
       "      <td>0.0</td>\n",
       "      <td>1.0</td>\n",
       "      <td>0</td>\n",
       "      <td>Not Graduate</td>\n",
       "      <td>No</td>\n",
       "      <td>2583</td>\n",
       "      <td>2358.0</td>\n",
       "      <td>120.0</td>\n",
       "      <td>360.0</td>\n",
       "      <td>1.0</td>\n",
       "      <td>Urban</td>\n",
       "      <td>1</td>\n",
       "    </tr>\n",
       "    <tr>\n",
       "      <th>4</th>\n",
       "      <td>LP001008</td>\n",
       "      <td>0.0</td>\n",
       "      <td>0.0</td>\n",
       "      <td>0</td>\n",
       "      <td>Graduate</td>\n",
       "      <td>No</td>\n",
       "      <td>6000</td>\n",
       "      <td>0.0</td>\n",
       "      <td>141.0</td>\n",
       "      <td>360.0</td>\n",
       "      <td>1.0</td>\n",
       "      <td>Urban</td>\n",
       "      <td>1</td>\n",
       "    </tr>\n",
       "    <tr>\n",
       "      <th>...</th>\n",
       "      <td>...</td>\n",
       "      <td>...</td>\n",
       "      <td>...</td>\n",
       "      <td>...</td>\n",
       "      <td>...</td>\n",
       "      <td>...</td>\n",
       "      <td>...</td>\n",
       "      <td>...</td>\n",
       "      <td>...</td>\n",
       "      <td>...</td>\n",
       "      <td>...</td>\n",
       "      <td>...</td>\n",
       "      <td>...</td>\n",
       "    </tr>\n",
       "    <tr>\n",
       "      <th>609</th>\n",
       "      <td>LP002978</td>\n",
       "      <td>1.0</td>\n",
       "      <td>0.0</td>\n",
       "      <td>0</td>\n",
       "      <td>Graduate</td>\n",
       "      <td>No</td>\n",
       "      <td>2900</td>\n",
       "      <td>0.0</td>\n",
       "      <td>71.0</td>\n",
       "      <td>360.0</td>\n",
       "      <td>1.0</td>\n",
       "      <td>Rural</td>\n",
       "      <td>1</td>\n",
       "    </tr>\n",
       "    <tr>\n",
       "      <th>610</th>\n",
       "      <td>LP002979</td>\n",
       "      <td>0.0</td>\n",
       "      <td>1.0</td>\n",
       "      <td>3+</td>\n",
       "      <td>Graduate</td>\n",
       "      <td>No</td>\n",
       "      <td>4106</td>\n",
       "      <td>0.0</td>\n",
       "      <td>40.0</td>\n",
       "      <td>180.0</td>\n",
       "      <td>1.0</td>\n",
       "      <td>Rural</td>\n",
       "      <td>1</td>\n",
       "    </tr>\n",
       "    <tr>\n",
       "      <th>611</th>\n",
       "      <td>LP002983</td>\n",
       "      <td>0.0</td>\n",
       "      <td>1.0</td>\n",
       "      <td>1</td>\n",
       "      <td>Graduate</td>\n",
       "      <td>No</td>\n",
       "      <td>8072</td>\n",
       "      <td>240.0</td>\n",
       "      <td>253.0</td>\n",
       "      <td>360.0</td>\n",
       "      <td>1.0</td>\n",
       "      <td>Urban</td>\n",
       "      <td>1</td>\n",
       "    </tr>\n",
       "    <tr>\n",
       "      <th>612</th>\n",
       "      <td>LP002984</td>\n",
       "      <td>0.0</td>\n",
       "      <td>1.0</td>\n",
       "      <td>2</td>\n",
       "      <td>Graduate</td>\n",
       "      <td>No</td>\n",
       "      <td>7583</td>\n",
       "      <td>0.0</td>\n",
       "      <td>187.0</td>\n",
       "      <td>360.0</td>\n",
       "      <td>1.0</td>\n",
       "      <td>Urban</td>\n",
       "      <td>1</td>\n",
       "    </tr>\n",
       "    <tr>\n",
       "      <th>613</th>\n",
       "      <td>LP002990</td>\n",
       "      <td>1.0</td>\n",
       "      <td>0.0</td>\n",
       "      <td>0</td>\n",
       "      <td>Graduate</td>\n",
       "      <td>Yes</td>\n",
       "      <td>4583</td>\n",
       "      <td>0.0</td>\n",
       "      <td>133.0</td>\n",
       "      <td>360.0</td>\n",
       "      <td>0.0</td>\n",
       "      <td>Semiurban</td>\n",
       "      <td>0</td>\n",
       "    </tr>\n",
       "  </tbody>\n",
       "</table>\n",
       "<p>614 rows × 13 columns</p>\n",
       "</div>"
      ],
      "text/plain": [
       "      Loan_ID  Gender  Married Dependents     Education Self_Employed  \\\n",
       "0    LP001002     0.0      0.0          0      Graduate            No   \n",
       "1    LP001003     0.0      1.0          1      Graduate            No   \n",
       "2    LP001005     0.0      1.0          0      Graduate           Yes   \n",
       "3    LP001006     0.0      1.0          0  Not Graduate            No   \n",
       "4    LP001008     0.0      0.0          0      Graduate            No   \n",
       "..        ...     ...      ...        ...           ...           ...   \n",
       "609  LP002978     1.0      0.0          0      Graduate            No   \n",
       "610  LP002979     0.0      1.0         3+      Graduate            No   \n",
       "611  LP002983     0.0      1.0          1      Graduate            No   \n",
       "612  LP002984     0.0      1.0          2      Graduate            No   \n",
       "613  LP002990     1.0      0.0          0      Graduate           Yes   \n",
       "\n",
       "     ApplicantIncome  CoapplicantIncome  LoanAmount  Loan_Amount_Term  \\\n",
       "0               5849                0.0         NaN             360.0   \n",
       "1               4583             1508.0       128.0             360.0   \n",
       "2               3000                0.0        66.0             360.0   \n",
       "3               2583             2358.0       120.0             360.0   \n",
       "4               6000                0.0       141.0             360.0   \n",
       "..               ...                ...         ...               ...   \n",
       "609             2900                0.0        71.0             360.0   \n",
       "610             4106                0.0        40.0             180.0   \n",
       "611             8072              240.0       253.0             360.0   \n",
       "612             7583                0.0       187.0             360.0   \n",
       "613             4583                0.0       133.0             360.0   \n",
       "\n",
       "     Credit_History Property_Area  Loan_Status  \n",
       "0               1.0         Urban            1  \n",
       "1               1.0         Rural            0  \n",
       "2               1.0         Urban            1  \n",
       "3               1.0         Urban            1  \n",
       "4               1.0         Urban            1  \n",
       "..              ...           ...          ...  \n",
       "609             1.0         Rural            1  \n",
       "610             1.0         Rural            1  \n",
       "611             1.0         Urban            1  \n",
       "612             1.0         Urban            1  \n",
       "613             0.0     Semiurban            0  \n",
       "\n",
       "[614 rows x 13 columns]"
      ]
     },
     "execution_count": 11,
     "metadata": {},
     "output_type": "execute_result"
    }
   ],
   "source": [
    "loan_data"
   ]
  },
  {
   "cell_type": "markdown",
   "id": "df095c61",
   "metadata": {},
   "source": [
    "### Filling Missing Values"
   ]
  },
  {
   "cell_type": "code",
   "execution_count": 12,
   "id": "1ebb4e3b",
   "metadata": {},
   "outputs": [],
   "source": [
    "# Gender column \n",
    "loan_data['Gender'] = loan_data['Gender'].fillna(loan_data['Gender'].mode()[0])"
   ]
  },
  {
   "cell_type": "code",
   "execution_count": 13,
   "id": "4b18cfbf",
   "metadata": {},
   "outputs": [],
   "source": [
    "# Married column\n",
    "loan_data['Married'] = loan_data['Married'].fillna(loan_data['Married'].mode()[0])"
   ]
  },
  {
   "cell_type": "code",
   "execution_count": 14,
   "id": "8e0fece9",
   "metadata": {},
   "outputs": [],
   "source": [
    "# Dependents Column\n",
    "loan_data['Dependents'] = loan_data['Dependents'].fillna(loan_data['Dependents'].mode()[0])"
   ]
  },
  {
   "cell_type": "code",
   "execution_count": 15,
   "id": "0d3867b6",
   "metadata": {},
   "outputs": [],
   "source": [
    "# Self_Employed Column\n",
    "loan_data['Self_Employed'].fillna('No',inplace=True)"
   ]
  },
  {
   "cell_type": "code",
   "execution_count": 16,
   "id": "8c35d9c3",
   "metadata": {},
   "outputs": [],
   "source": [
    "# Credit_History Column\n",
    "loan_data['Credit_History'] = loan_data['Credit_History'].fillna(loan_data['Credit_History'].mode()[0])"
   ]
  },
  {
   "cell_type": "code",
   "execution_count": 17,
   "id": "c5461983",
   "metadata": {},
   "outputs": [],
   "source": [
    "# LoanAmount Column\n",
    "loan_data['LoanAmount'] = loan_data['LoanAmount'].fillna(loan_data['LoanAmount'].median())"
   ]
  },
  {
   "cell_type": "code",
   "execution_count": 18,
   "id": "4659e8d2",
   "metadata": {},
   "outputs": [],
   "source": [
    "# Loan_Amount Column\n",
    "loan_data['Loan_Amount_Term'] = loan_data['Loan_Amount_Term'].fillna(loan_data['Loan_Amount_Term'].mode()[0])"
   ]
  },
  {
   "cell_type": "code",
   "execution_count": 19,
   "id": "b770fa6a",
   "metadata": {},
   "outputs": [
    {
     "data": {
      "text/plain": [
       "<Axes: >"
      ]
     },
     "execution_count": 19,
     "metadata": {},
     "output_type": "execute_result"
    },
    {
     "data": {
      "image/png": "[encoded data removed]",
      "text/plain": [
       "<Figure size 640x480 with 2 Axes>"
      ]
     },
     "metadata": {},
     "output_type": "display_data"
    }
   ],
   "source": [
    "sns.heatmap(loan_data.isnull())"
   ]
  },
  {
   "cell_type": "markdown",
   "id": "7ce62e3f",
   "metadata": {},
   "source": [
    "Now, After Remove null values there are no null values are present"
   ]
  },
  {
   "cell_type": "code",
   "execution_count": 20,
   "id": "2a50555e",
   "metadata": {},
   "outputs": [
    {
     "data": {
      "text/html": [
       "<div>\n",
       "<style scoped>\n",
       "    .dataframe tbody tr th:only-of-type {\n",
       "        vertical-align: middle;\n",
       "    }\n",
       "\n",
       "    .dataframe tbody tr th {\n",
       "        vertical-align: top;\n",
       "    }\n",
       "\n",
       "    .dataframe thead th {\n",
       "        text-align: right;\n",
       "    }\n",
       "</style>\n",
       "<table border=\"1\" class=\"dataframe\">\n",
       "  <thead>\n",
       "    <tr style=\"text-align: right;\">\n",
       "      <th></th>\n",
       "      <th>Gender</th>\n",
       "      <th>Married</th>\n",
       "      <th>ApplicantIncome</th>\n",
       "      <th>CoapplicantIncome</th>\n",
       "      <th>LoanAmount</th>\n",
       "      <th>Loan_Amount_Term</th>\n",
       "      <th>Credit_History</th>\n",
       "      <th>Loan_Status</th>\n",
       "    </tr>\n",
       "  </thead>\n",
       "  <tbody>\n",
       "    <tr>\n",
       "      <th>count</th>\n",
       "      <td>614.000000</td>\n",
       "      <td>614.000000</td>\n",
       "      <td>614.000000</td>\n",
       "      <td>614.000000</td>\n",
       "      <td>614.000000</td>\n",
       "      <td>614.000000</td>\n",
       "      <td>614.000000</td>\n",
       "      <td>614.000000</td>\n",
       "    </tr>\n",
       "    <tr>\n",
       "      <th>mean</th>\n",
       "      <td>0.182410</td>\n",
       "      <td>0.653094</td>\n",
       "      <td>5403.459283</td>\n",
       "      <td>1621.245798</td>\n",
       "      <td>145.752443</td>\n",
       "      <td>342.410423</td>\n",
       "      <td>0.855049</td>\n",
       "      <td>0.687296</td>\n",
       "    </tr>\n",
       "    <tr>\n",
       "      <th>std</th>\n",
       "      <td>0.386497</td>\n",
       "      <td>0.476373</td>\n",
       "      <td>6109.041673</td>\n",
       "      <td>2926.248369</td>\n",
       "      <td>84.107233</td>\n",
       "      <td>64.428629</td>\n",
       "      <td>0.352339</td>\n",
       "      <td>0.463973</td>\n",
       "    </tr>\n",
       "    <tr>\n",
       "      <th>min</th>\n",
       "      <td>0.000000</td>\n",
       "      <td>0.000000</td>\n",
       "      <td>150.000000</td>\n",
       "      <td>0.000000</td>\n",
       "      <td>9.000000</td>\n",
       "      <td>12.000000</td>\n",
       "      <td>0.000000</td>\n",
       "      <td>0.000000</td>\n",
       "    </tr>\n",
       "    <tr>\n",
       "      <th>25%</th>\n",
       "      <td>0.000000</td>\n",
       "      <td>0.000000</td>\n",
       "      <td>2877.500000</td>\n",
       "      <td>0.000000</td>\n",
       "      <td>100.250000</td>\n",
       "      <td>360.000000</td>\n",
       "      <td>1.000000</td>\n",
       "      <td>0.000000</td>\n",
       "    </tr>\n",
       "    <tr>\n",
       "      <th>50%</th>\n",
       "      <td>0.000000</td>\n",
       "      <td>1.000000</td>\n",
       "      <td>3812.500000</td>\n",
       "      <td>1188.500000</td>\n",
       "      <td>128.000000</td>\n",
       "      <td>360.000000</td>\n",
       "      <td>1.000000</td>\n",
       "      <td>1.000000</td>\n",
       "    </tr>\n",
       "    <tr>\n",
       "      <th>75%</th>\n",
       "      <td>0.000000</td>\n",
       "      <td>1.000000</td>\n",
       "      <td>5795.000000</td>\n",
       "      <td>2297.250000</td>\n",
       "      <td>164.750000</td>\n",
       "      <td>360.000000</td>\n",
       "      <td>1.000000</td>\n",
       "      <td>1.000000</td>\n",
       "    </tr>\n",
       "    <tr>\n",
       "      <th>max</th>\n",
       "      <td>1.000000</td>\n",
       "      <td>1.000000</td>\n",
       "      <td>81000.000000</td>\n",
       "      <td>41667.000000</td>\n",
       "      <td>700.000000</td>\n",
       "      <td>480.000000</td>\n",
       "      <td>1.000000</td>\n",
       "      <td>1.000000</td>\n",
       "    </tr>\n",
       "  </tbody>\n",
       "</table>\n",
       "</div>"
      ],
      "text/plain": [
       "           Gender     Married  ApplicantIncome  CoapplicantIncome  LoanAmount  \\\n",
       "count  614.000000  614.000000       614.000000         614.000000  614.000000   \n",
       "mean     0.182410    0.653094      5403.459283        1621.245798  145.752443   \n",
       "std      0.386497    0.476373      6109.041673        2926.248369   84.107233   \n",
       "min      0.000000    0.000000       150.000000           0.000000    9.000000   \n",
       "25%      0.000000    0.000000      2877.500000           0.000000  100.250000   \n",
       "50%      0.000000    1.000000      3812.500000        1188.500000  128.000000   \n",
       "75%      0.000000    1.000000      5795.000000        2297.250000  164.750000   \n",
       "max      1.000000    1.000000     81000.000000       41667.000000  700.000000   \n",
       "\n",
       "       Loan_Amount_Term  Credit_History  Loan_Status  \n",
       "count        614.000000      614.000000   614.000000  \n",
       "mean         342.410423        0.855049     0.687296  \n",
       "std           64.428629        0.352339     0.463973  \n",
       "min           12.000000        0.000000     0.000000  \n",
       "25%          360.000000        1.000000     0.000000  \n",
       "50%          360.000000        1.000000     1.000000  \n",
       "75%          360.000000        1.000000     1.000000  \n",
       "max          480.000000        1.000000     1.000000  "
      ]
     },
     "execution_count": 20,
     "metadata": {},
     "output_type": "execute_result"
    }
   ],
   "source": [
    "loan_data.describe()"
   ]
  },
  {
   "cell_type": "markdown",
   "id": "a7f8999e",
   "metadata": {},
   "source": [
    "This gives the statistical information of the numerical columns. The summary of the dataset looks perfect since there is no negative/invalid values present.\n",
    "\n",
    "The counts of all the columns are same which means there are no missing values in the dataset.\n",
    "\n",
    "By summarizing the data we can observe there is a huge differences between 75% and max in some columns hence there are outliers present int he data.\n",
    "\n",
    "We can also notice the Standard deviation, minimum value, 25% percentile values from this describe method."
   ]
  },
  {
   "cell_type": "markdown",
   "id": "e004baa2",
   "metadata": {},
   "source": [
    "### Exploratory Data Analysis"
   ]
  },
  {
   "cell_type": "code",
   "execution_count": 21,
   "id": "ab7de325",
   "metadata": {},
   "outputs": [
    {
     "name": "stdout",
     "output_type": "stream",
     "text": [
      "0.0 : Male\n",
      "0.0 : Male\n",
      "0.0 : Male\n",
      "0.0 : Male\n",
      "0.0 : Male\n",
      "0.0 : Male\n",
      "0.0 : Male\n",
      "0.0 : Male\n",
      "0.0 : Male\n",
      "0.0 : Male\n",
      "0.0 : Male\n",
      "0.0 : Male\n",
      "0.0 : Male\n",
      "0.0 : Male\n",
      "0.0 : Male\n",
      "0.0 : Male\n",
      "0.0 : Male\n",
      "1.0 : Female\n",
      "0.0 : Male\n",
      "0.0 : Male\n",
      "0.0 : Male\n",
      "0.0 : Male\n",
      "0.0 : Male\n",
      "0.0 : Male\n",
      "0.0 : Male\n",
      "0.0 : Male\n",
      "0.0 : Male\n",
      "0.0 : Male\n",
      "0.0 : Male\n",
      "1.0 : Female\n",
      "0.0 : Male\n",
      "0.0 : Male\n",
      "0.0 : Male\n",
      "0.0 : Male\n",
      "0.0 : Male\n",
      "0.0 : Male\n",
      "0.0 : Male\n",
      "1.0 : Female\n",
      "0.0 : Male\n",
      "0.0 : Male\n",
      "0.0 : Male\n",
      "0.0 : Male\n",
      "0.0 : Male\n",
      "0.0 : Male\n",
      "0.0 : Male\n",
      "1.0 : Female\n",
      "0.0 : Male\n",
      "0.0 : Male\n",
      "1.0 : Female\n",
      "1.0 : Female\n",
      "1.0 : Female\n",
      "1.0 : Female\n",
      "1.0 : Female\n",
      "0.0 : Male\n",
      "1.0 : Female\n",
      "0.0 : Male\n",
      "0.0 : Male\n",
      "0.0 : Male\n",
      "0.0 : Male\n",
      "0.0 : Male\n",
      "0.0 : Male\n",
      "0.0 : Male\n",
      "0.0 : Male\n",
      "0.0 : Male\n",
      "1.0 : Female\n",
      "0.0 : Male\n",
      "0.0 : Male\n",
      "0.0 : Male\n",
      "0.0 : Male\n",
      "1.0 : Female\n",
      "0.0 : Male\n",
      "0.0 : Male\n",
      "0.0 : Male\n",
      "0.0 : Male\n",
      "0.0 : Male\n",
      "0.0 : Male\n",
      "0.0 : Male\n",
      "0.0 : Male\n",
      "0.0 : Male\n",
      "0.0 : Male\n",
      "1.0 : Female\n",
      "0.0 : Male\n",
      "1.0 : Female\n",
      "0.0 : Male\n",
      "0.0 : Male\n",
      "0.0 : Male\n",
      "0.0 : Male\n",
      "0.0 : Male\n",
      "0.0 : Male\n",
      "0.0 : Male\n",
      "0.0 : Male\n",
      "0.0 : Male\n",
      "0.0 : Male\n",
      "0.0 : Male\n",
      "0.0 : Male\n",
      "0.0 : Male\n",
      "1.0 : Female\n",
      "0.0 : Male\n",
      "0.0 : Male\n",
      "0.0 : Male\n",
      "0.0 : Male\n",
      "0.0 : Male\n",
      "0.0 : Male\n",
      "0.0 : Male\n",
      "0.0 : Male\n",
      "0.0 : Male\n",
      "0.0 : Male\n",
      "0.0 : Male\n",
      "0.0 : Male\n",
      "0.0 : Male\n",
      "0.0 : Male\n",
      "1.0 : Female\n",
      "0.0 : Male\n",
      "1.0 : Female\n",
      "0.0 : Male\n",
      "0.0 : Male\n",
      "1.0 : Female\n",
      "0.0 : Male\n",
      "0.0 : Male\n",
      "1.0 : Female\n",
      "0.0 : Male\n",
      "1.0 : Female\n",
      "1.0 : Female\n",
      "0.0 : Male\n",
      "0.0 : Male\n",
      "1.0 : Female\n",
      "0.0 : Male\n",
      "0.0 : Male\n",
      "0.0 : Male\n",
      "0.0 : Male\n",
      "0.0 : Male\n",
      "0.0 : Male\n",
      "0.0 : Male\n",
      "0.0 : Male\n",
      "0.0 : Male\n",
      "0.0 : Male\n",
      "1.0 : Female\n",
      "0.0 : Male\n",
      "0.0 : Male\n",
      "0.0 : Male\n",
      "0.0 : Male\n",
      "0.0 : Male\n",
      "0.0 : Male\n",
      "0.0 : Male\n",
      "0.0 : Male\n",
      "1.0 : Female\n",
      "1.0 : Female\n",
      "0.0 : Male\n",
      "1.0 : Female\n",
      "0.0 : Male\n",
      "0.0 : Male\n",
      "0.0 : Male\n",
      "0.0 : Male\n",
      "0.0 : Male\n",
      "0.0 : Male\n",
      "0.0 : Male\n",
      "0.0 : Male\n",
      "0.0 : Male\n",
      "0.0 : Male\n",
      "0.0 : Male\n",
      "0.0 : Male\n",
      "0.0 : Male\n",
      "0.0 : Male\n",
      "0.0 : Male\n",
      "0.0 : Male\n",
      "0.0 : Male\n",
      "1.0 : Female\n",
      "0.0 : Male\n",
      "0.0 : Male\n",
      "0.0 : Male\n",
      "0.0 : Male\n",
      "0.0 : Male\n",
      "0.0 : Male\n",
      "0.0 : Male\n",
      "0.0 : Male\n",
      "0.0 : Male\n",
      "0.0 : Male\n",
      "0.0 : Male\n",
      "0.0 : Male\n",
      "0.0 : Male\n",
      "0.0 : Male\n",
      "0.0 : Male\n",
      "0.0 : Male\n",
      "0.0 : Male\n",
      "1.0 : Female\n",
      "0.0 : Male\n",
      "0.0 : Male\n",
      "0.0 : Male\n",
      "0.0 : Male\n",
      "0.0 : Male\n",
      "0.0 : Male\n",
      "0.0 : Male\n",
      "0.0 : Male\n",
      "0.0 : Male\n",
      "0.0 : Male\n",
      "0.0 : Male\n",
      "0.0 : Male\n",
      "1.0 : Female\n",
      "1.0 : Female\n",
      "0.0 : Male\n",
      "0.0 : Male\n",
      "0.0 : Male\n",
      "0.0 : Male\n",
      "0.0 : Male\n",
      "0.0 : Male\n",
      "1.0 : Female\n",
      "1.0 : Female\n",
      "0.0 : Male\n",
      "0.0 : Male\n",
      "0.0 : Male\n",
      "1.0 : Female\n",
      "0.0 : Male\n",
      "0.0 : Male\n",
      "0.0 : Male\n",
      "0.0 : Male\n",
      "0.0 : Male\n",
      "0.0 : Male\n",
      "0.0 : Male\n",
      "0.0 : Male\n",
      "1.0 : Female\n",
      "0.0 : Male\n",
      "0.0 : Male\n",
      "0.0 : Male\n",
      "0.0 : Male\n",
      "0.0 : Male\n",
      "0.0 : Male\n",
      "0.0 : Male\n",
      "0.0 : Male\n",
      "0.0 : Male\n",
      "0.0 : Male\n",
      "0.0 : Male\n",
      "0.0 : Male\n",
      "0.0 : Male\n",
      "1.0 : Female\n",
      "0.0 : Male\n",
      "0.0 : Male\n",
      "0.0 : Male\n",
      "1.0 : Female\n",
      "1.0 : Female\n",
      "0.0 : Male\n",
      "0.0 : Male\n",
      "0.0 : Male\n",
      "0.0 : Male\n",
      "0.0 : Male\n",
      "0.0 : Male\n",
      "0.0 : Male\n",
      "0.0 : Male\n",
      "0.0 : Male\n",
      "0.0 : Male\n",
      "0.0 : Male\n",
      "0.0 : Male\n",
      "1.0 : Female\n",
      "0.0 : Male\n",
      "0.0 : Male\n",
      "0.0 : Male\n",
      "1.0 : Female\n",
      "0.0 : Male\n",
      "0.0 : Male\n",
      "0.0 : Male\n",
      "0.0 : Male\n",
      "0.0 : Male\n",
      "0.0 : Male\n",
      "1.0 : Female\n",
      "1.0 : Female\n",
      "0.0 : Male\n",
      "0.0 : Male\n",
      "0.0 : Male\n",
      "0.0 : Male\n",
      "1.0 : Female\n",
      "1.0 : Female\n",
      "1.0 : Female\n",
      "0.0 : Male\n",
      "0.0 : Male\n",
      "0.0 : Male\n",
      "0.0 : Male\n",
      "0.0 : Male\n",
      "0.0 : Male\n",
      "0.0 : Male\n",
      "0.0 : Male\n",
      "1.0 : Female\n",
      "0.0 : Male\n",
      "0.0 : Male\n",
      "0.0 : Male\n",
      "1.0 : Female\n",
      "0.0 : Male\n",
      "0.0 : Male\n",
      "1.0 : Female\n",
      "0.0 : Male\n",
      "1.0 : Female\n",
      "0.0 : Male\n",
      "0.0 : Male\n",
      "0.0 : Male\n",
      "0.0 : Male\n",
      "1.0 : Female\n",
      "0.0 : Male\n",
      "0.0 : Male\n",
      "0.0 : Male\n",
      "1.0 : Female\n",
      "1.0 : Female\n",
      "0.0 : Male\n",
      "0.0 : Male\n",
      "0.0 : Male\n",
      "1.0 : Female\n",
      "0.0 : Male\n",
      "0.0 : Male\n",
      "0.0 : Male\n",
      "1.0 : Female\n",
      "1.0 : Female\n",
      "0.0 : Male\n",
      "0.0 : Male\n",
      "1.0 : Female\n",
      "0.0 : Male\n",
      "1.0 : Female\n",
      "0.0 : Male\n",
      "0.0 : Male\n",
      "0.0 : Male\n",
      "0.0 : Male\n",
      "0.0 : Male\n",
      "1.0 : Female\n",
      "0.0 : Male\n",
      "0.0 : Male\n",
      "0.0 : Male\n",
      "0.0 : Male\n",
      "1.0 : Female\n",
      "0.0 : Male\n",
      "0.0 : Male\n",
      "0.0 : Male\n",
      "0.0 : Male\n",
      "1.0 : Female\n",
      "1.0 : Female\n",
      "0.0 : Male\n",
      "0.0 : Male\n",
      "0.0 : Male\n",
      "0.0 : Male\n",
      "0.0 : Male\n",
      "0.0 : Male\n",
      "0.0 : Male\n",
      "0.0 : Male\n",
      "1.0 : Female\n",
      "1.0 : Female\n",
      "0.0 : Male\n",
      "1.0 : Female\n",
      "0.0 : Male\n",
      "0.0 : Male\n",
      "0.0 : Male\n",
      "0.0 : Male\n",
      "0.0 : Male\n",
      "0.0 : Male\n",
      "0.0 : Male\n",
      "0.0 : Male\n",
      "0.0 : Male\n",
      "0.0 : Male\n",
      "0.0 : Male\n",
      "1.0 : Female\n",
      "1.0 : Female\n",
      "1.0 : Female\n",
      "0.0 : Male\n",
      "0.0 : Male\n",
      "0.0 : Male\n",
      "0.0 : Male\n",
      "1.0 : Female\n",
      "0.0 : Male\n",
      "0.0 : Male\n",
      "0.0 : Male\n",
      "0.0 : Male\n",
      "0.0 : Male\n",
      "0.0 : Male\n",
      "0.0 : Male\n",
      "0.0 : Male\n",
      "0.0 : Male\n",
      "1.0 : Female\n",
      "0.0 : Male\n",
      "0.0 : Male\n",
      "0.0 : Male\n",
      "1.0 : Female\n",
      "0.0 : Male\n",
      "0.0 : Male\n",
      "0.0 : Male\n",
      "0.0 : Male\n",
      "0.0 : Male\n",
      "0.0 : Male\n",
      "0.0 : Male\n",
      "1.0 : Female\n",
      "0.0 : Male\n",
      "0.0 : Male\n",
      "0.0 : Male\n",
      "0.0 : Male\n",
      "0.0 : Male\n",
      "0.0 : Male\n",
      "0.0 : Male\n",
      "0.0 : Male\n",
      "0.0 : Male\n",
      "0.0 : Male\n",
      "0.0 : Male\n",
      "0.0 : Male\n",
      "0.0 : Male\n",
      "1.0 : Female\n",
      "0.0 : Male\n",
      "0.0 : Male\n",
      "1.0 : Female\n",
      "0.0 : Male\n",
      "0.0 : Male\n",
      "0.0 : Male\n",
      "1.0 : Female\n",
      "1.0 : Female\n",
      "1.0 : Female\n",
      "0.0 : Male\n",
      "1.0 : Female\n",
      "0.0 : Male\n",
      "0.0 : Male\n",
      "1.0 : Female\n",
      "0.0 : Male\n",
      "0.0 : Male\n",
      "0.0 : Male\n",
      "1.0 : Female\n",
      "1.0 : Female\n",
      "1.0 : Female\n",
      "0.0 : Male\n",
      "0.0 : Male\n",
      "0.0 : Male\n",
      "0.0 : Male\n",
      "1.0 : Female\n",
      "0.0 : Male\n",
      "0.0 : Male\n",
      "0.0 : Male\n",
      "0.0 : Male\n",
      "1.0 : Female\n",
      "0.0 : Male\n",
      "0.0 : Male\n",
      "0.0 : Male\n",
      "1.0 : Female\n",
      "0.0 : Male\n",
      "0.0 : Male\n",
      "0.0 : Male\n",
      "0.0 : Male\n",
      "1.0 : Female\n",
      "0.0 : Male\n",
      "0.0 : Male\n",
      "0.0 : Male\n",
      "1.0 : Female\n",
      "0.0 : Male\n",
      "0.0 : Male\n",
      "0.0 : Male\n",
      "0.0 : Male\n",
      "0.0 : Male\n",
      "0.0 : Male\n",
      "0.0 : Male\n",
      "0.0 : Male\n",
      "0.0 : Male\n",
      "0.0 : Male\n",
      "0.0 : Male\n",
      "0.0 : Male\n",
      "0.0 : Male\n",
      "0.0 : Male\n",
      "0.0 : Male\n",
      "0.0 : Male\n",
      "0.0 : Male\n",
      "0.0 : Male\n",
      "0.0 : Male\n",
      "0.0 : Male\n",
      "0.0 : Male\n",
      "0.0 : Male\n",
      "0.0 : Male\n",
      "1.0 : Female\n",
      "0.0 : Male\n",
      "0.0 : Male\n",
      "0.0 : Male\n",
      "0.0 : Male\n",
      "1.0 : Female\n",
      "0.0 : Male\n",
      "0.0 : Male\n",
      "0.0 : Male\n",
      "0.0 : Male\n",
      "1.0 : Female\n",
      "0.0 : Male\n",
      "0.0 : Male\n",
      "0.0 : Male\n",
      "0.0 : Male\n",
      "0.0 : Male\n",
      "0.0 : Male\n",
      "1.0 : Female\n",
      "0.0 : Male\n",
      "0.0 : Male\n",
      "0.0 : Male\n",
      "0.0 : Male\n",
      "0.0 : Male\n",
      "0.0 : Male\n",
      "0.0 : Male\n",
      "0.0 : Male\n",
      "0.0 : Male\n",
      "0.0 : Male\n",
      "0.0 : Male\n",
      "0.0 : Male\n",
      "1.0 : Female\n",
      "0.0 : Male\n",
      "1.0 : Female\n",
      "0.0 : Male\n",
      "0.0 : Male\n",
      "0.0 : Male\n",
      "0.0 : Male\n",
      "1.0 : Female\n",
      "1.0 : Female\n",
      "0.0 : Male\n",
      "0.0 : Male\n",
      "0.0 : Male\n",
      "0.0 : Male\n",
      "0.0 : Male\n",
      "0.0 : Male\n",
      "0.0 : Male\n",
      "1.0 : Female\n",
      "0.0 : Male\n",
      "0.0 : Male\n",
      "0.0 : Male\n",
      "0.0 : Male\n",
      "0.0 : Male\n",
      "0.0 : Male\n",
      "1.0 : Female\n",
      "0.0 : Male\n",
      "0.0 : Male\n",
      "1.0 : Female\n",
      "0.0 : Male\n",
      "0.0 : Male\n",
      "0.0 : Male\n",
      "0.0 : Male\n",
      "0.0 : Male\n",
      "0.0 : Male\n",
      "0.0 : Male\n",
      "0.0 : Male\n",
      "0.0 : Male\n",
      "0.0 : Male\n",
      "0.0 : Male\n",
      "0.0 : Male\n",
      "0.0 : Male\n",
      "0.0 : Male\n",
      "1.0 : Female\n",
      "0.0 : Male\n",
      "0.0 : Male\n",
      "0.0 : Male\n",
      "0.0 : Male\n",
      "0.0 : Male\n",
      "1.0 : Female\n",
      "1.0 : Female\n",
      "1.0 : Female\n",
      "0.0 : Male\n",
      "1.0 : Female\n",
      "0.0 : Male\n",
      "0.0 : Male\n",
      "0.0 : Male\n",
      "1.0 : Female\n",
      "0.0 : Male\n",
      "0.0 : Male\n",
      "0.0 : Male\n",
      "0.0 : Male\n",
      "0.0 : Male\n",
      "0.0 : Male\n",
      "0.0 : Male\n",
      "1.0 : Female\n",
      "0.0 : Male\n",
      "0.0 : Male\n",
      "1.0 : Female\n",
      "0.0 : Male\n",
      "1.0 : Female\n",
      "0.0 : Male\n",
      "0.0 : Male\n",
      "0.0 : Male\n",
      "0.0 : Male\n",
      "0.0 : Male\n",
      "0.0 : Male\n",
      "1.0 : Female\n",
      "0.0 : Male\n",
      "0.0 : Male\n",
      "0.0 : Male\n",
      "0.0 : Male\n",
      "0.0 : Male\n",
      "0.0 : Male\n",
      "0.0 : Male\n",
      "0.0 : Male\n",
      "0.0 : Male\n",
      "0.0 : Male\n",
      "0.0 : Male\n",
      "0.0 : Male\n",
      "0.0 : Male\n",
      "1.0 : Female\n",
      "0.0 : Male\n",
      "0.0 : Male\n",
      "0.0 : Male\n",
      "0.0 : Male\n",
      "1.0 : Female\n",
      "0.0 : Male\n",
      "0.0 : Male\n",
      "0.0 : Male\n",
      "0.0 : Male\n",
      "0.0 : Male\n",
      "0.0 : Male\n",
      "0.0 : Male\n",
      "0.0 : Male\n",
      "0.0 : Male\n",
      "0.0 : Male\n",
      "0.0 : Male\n",
      "0.0 : Male\n",
      "1.0 : Female\n",
      "0.0 : Male\n",
      "0.0 : Male\n",
      "0.0 : Male\n",
      "1.0 : Female\n",
      "0.0 : Male\n",
      "0.0 : Male\n",
      "0.0 : Male\n",
      "0.0 : Male\n",
      "1.0 : Female\n",
      "0.0 : Male\n",
      "0.0 : Male\n",
      "0.0 : Male\n",
      "1.0 : Female\n"
     ]
    }
   ],
   "source": [
    "# Just Check it \n",
    "for i in loan_data['Gender']:\n",
    "    if i==0.0:\n",
    "        print(i,': Male')\n",
    "    else:\n",
    "        print(i,': Female')"
   ]
  },
  {
   "cell_type": "code",
   "execution_count": 22,
   "id": "86fa3464",
   "metadata": {},
   "outputs": [
    {
     "data": {
      "text/plain": [
       "Gender\n",
       "0.0    502\n",
       "1.0    112\n",
       "Name: count, dtype: int64"
      ]
     },
     "execution_count": 22,
     "metadata": {},
     "output_type": "execute_result"
    }
   ],
   "source": [
    "# Counting the accurance of each value in Gender column\n",
    "loan_data['Gender'].value_counts()"
   ]
  },
  {
   "cell_type": "code",
   "execution_count": 23,
   "id": "9a3d0752",
   "metadata": {
    "scrolled": true
   },
   "outputs": [
    {
     "data": {
      "image/png": "[encoded data removed]",
      "text/plain": [
       "<Figure size 1500x600 with 1 Axes>"
      ]
     },
     "metadata": {},
     "output_type": "display_data"
    }
   ],
   "source": [
    "plt.figure(figsize=(15,6))\n",
    "sns.countplot(x='Gender', data= loan_data, palette = 'hls' )\n",
    "plt.show()"
   ]
  },
  {
   "cell_type": "code",
   "execution_count": 24,
   "id": "49ef702b",
   "metadata": {},
   "outputs": [
    {
     "data": {
      "text/plain": [
       "Dependents\n",
       "0     360\n",
       "1     102\n",
       "2     101\n",
       "3+     51\n",
       "Name: count, dtype: int64"
      ]
     },
     "execution_count": 24,
     "metadata": {},
     "output_type": "execute_result"
    }
   ],
   "source": [
    "# Counting the accurance of each value in Dependent column\n",
    "loan_data['Dependents'].value_counts()"
   ]
  },
  {
   "cell_type": "code",
   "execution_count": 25,
   "id": "62249ab4",
   "metadata": {
    "scrolled": true
   },
   "outputs": [
    {
     "data": {
      "image/png": "[encoded data removed]",
      "text/plain": [
       "<Figure size 1500x600 with 1 Axes>"
      ]
     },
     "metadata": {},
     "output_type": "display_data"
    }
   ],
   "source": [
    "plt.figure(figsize=(15,6))\n",
    "sns.countplot(x='Dependents', data = loan_data, palette='hls')\n",
    "plt.show()"
   ]
  },
  {
   "cell_type": "code",
   "execution_count": 26,
   "id": "6b791972",
   "metadata": {},
   "outputs": [
    {
     "data": {
      "image/png": "[encoded data removed]",
      "text/plain": [
       "<Figure size 1500x600 with 1 Axes>"
      ]
     },
     "metadata": {},
     "output_type": "display_data"
    }
   ],
   "source": [
    "# comparing loan status with gender column\n",
    "plt.figure(figsize=(15,6))\n",
    "sns.countplot(x = 'Gender',hue ='Loan_Status', data=loan_data , palette='hls')\n",
    "plt.show()"
   ]
  },
  {
   "cell_type": "markdown",
   "id": "752ff3c0",
   "metadata": {},
   "source": [
    " More males are on loan than females. Also, those that are on loan are more than otherwise "
   ]
  },
  {
   "cell_type": "code",
   "execution_count": 27,
   "id": "8b93dd2a",
   "metadata": {},
   "outputs": [
    {
     "data": {
      "text/plain": [
       "<Axes: xlabel='Married', ylabel='count'>"
      ]
     },
     "execution_count": 27,
     "metadata": {},
     "output_type": "execute_result"
    },
    {
     "data": {
      "image/png": "[encoded data removed]",
      "text/plain": [
       "<Figure size 1500x600 with 1 Axes>"
      ]
     },
     "metadata": {},
     "output_type": "display_data"
    }
   ],
   "source": [
    "# comparing loan status with married column\n",
    "plt.figure(figsize = (15,6))\n",
    "sns.countplot( x='Married', hue ='Loan_Status', data = loan_data)"
   ]
  },
  {
   "cell_type": "markdown",
   "id": "4c92a2cd",
   "metadata": {},
   "source": [
    " Married people collect more loan than unmarried"
   ]
  },
  {
   "cell_type": "code",
   "execution_count": 28,
   "id": "9789c456",
   "metadata": {},
   "outputs": [
    {
     "data": {
      "text/plain": [
       "Loan_Amount_Term\n",
       "360.0    526\n",
       "180.0     44\n",
       "480.0     15\n",
       "300.0     13\n",
       "240.0      4\n",
       "84.0       4\n",
       "120.0      3\n",
       "60.0       2\n",
       "36.0       2\n",
       "12.0       1\n",
       "Name: count, dtype: int64"
      ]
     },
     "execution_count": 28,
     "metadata": {},
     "output_type": "execute_result"
    }
   ],
   "source": [
    "#Counting the occurence of each value with Loan_amount_term column\n",
    "loan_data['Loan_Amount_Term'].value_counts()"
   ]
  },
  {
   "cell_type": "code",
   "execution_count": 29,
   "id": "a731f974",
   "metadata": {},
   "outputs": [
    {
     "data": {
      "image/png": "[encoded data removed]",
      "text/plain": [
       "<Figure size 1500x600 with 1 Axes>"
      ]
     },
     "metadata": {},
     "output_type": "display_data"
    }
   ],
   "source": [
    "plt.figure(figsize=(15,6))\n",
    "sns.countplot(x='Loan_Amount_Term', data = loan_data, palette='hls')\n",
    "plt.xticks(rotation = 90)\n",
    "plt.show()"
   ]
  },
  {
   "cell_type": "code",
   "execution_count": 30,
   "id": "0f025ab2",
   "metadata": {},
   "outputs": [
    {
     "data": {
      "image/png": "[encoded data removed]",
      "text/plain": [
       "<Figure size 1500x600 with 1 Axes>"
      ]
     },
     "metadata": {},
     "output_type": "display_data"
    }
   ],
   "source": [
    "# plotting boxplot\n",
    "plt.figure(figsize=(15,6))\n",
    "sns.boxplot(x='Loan_Status',y = 'ApplicantIncome', data=loan_data)\n",
    "plt.show()"
   ]
  },
  {
   "cell_type": "code",
   "execution_count": 31,
   "id": "2a3037fb",
   "metadata": {},
   "outputs": [
    {
     "data": {
      "image/png": "[encoded data removed]",
      "text/plain": [
       "<Figure size 1500x600 with 1 Axes>"
      ]
     },
     "metadata": {},
     "output_type": "display_data"
    }
   ],
   "source": [
    "plt.figure(figsize=(15,6))\n",
    "sns.boxplot(x='Loan_Status',y = 'CoapplicantIncome', data=loan_data)\n",
    "plt.show()"
   ]
  },
  {
   "cell_type": "code",
   "execution_count": 32,
   "id": "f534ecb1",
   "metadata": {},
   "outputs": [
    {
     "data": {
      "text/html": [
       "<div>\n",
       "<style scoped>\n",
       "    .dataframe tbody tr th:only-of-type {\n",
       "        vertical-align: middle;\n",
       "    }\n",
       "\n",
       "    .dataframe tbody tr th {\n",
       "        vertical-align: top;\n",
       "    }\n",
       "\n",
       "    .dataframe thead th {\n",
       "        text-align: right;\n",
       "    }\n",
       "</style>\n",
       "<table border=\"1\" class=\"dataframe\">\n",
       "  <thead>\n",
       "    <tr style=\"text-align: right;\">\n",
       "      <th></th>\n",
       "      <th>Loan_ID</th>\n",
       "      <th>Gender</th>\n",
       "      <th>Married</th>\n",
       "      <th>Dependents</th>\n",
       "      <th>Education</th>\n",
       "      <th>Self_Employed</th>\n",
       "      <th>ApplicantIncome</th>\n",
       "      <th>CoapplicantIncome</th>\n",
       "      <th>LoanAmount</th>\n",
       "      <th>Loan_Amount_Term</th>\n",
       "      <th>Credit_History</th>\n",
       "      <th>Property_Area</th>\n",
       "      <th>Loan_Status</th>\n",
       "    </tr>\n",
       "  </thead>\n",
       "  <tbody>\n",
       "    <tr>\n",
       "      <th>0</th>\n",
       "      <td>LP001002</td>\n",
       "      <td>0.0</td>\n",
       "      <td>0.0</td>\n",
       "      <td>0</td>\n",
       "      <td>Graduate</td>\n",
       "      <td>No</td>\n",
       "      <td>5849</td>\n",
       "      <td>0.0</td>\n",
       "      <td>128.0</td>\n",
       "      <td>360.0</td>\n",
       "      <td>1.0</td>\n",
       "      <td>Urban</td>\n",
       "      <td>1</td>\n",
       "    </tr>\n",
       "  </tbody>\n",
       "</table>\n",
       "</div>"
      ],
      "text/plain": [
       "    Loan_ID  Gender  Married Dependents Education Self_Employed  \\\n",
       "0  LP001002     0.0      0.0          0  Graduate            No   \n",
       "\n",
       "   ApplicantIncome  CoapplicantIncome  LoanAmount  Loan_Amount_Term  \\\n",
       "0             5849                0.0       128.0             360.0   \n",
       "\n",
       "   Credit_History Property_Area  Loan_Status  \n",
       "0             1.0         Urban            1  "
      ]
     },
     "execution_count": 32,
     "metadata": {},
     "output_type": "execute_result"
    }
   ],
   "source": [
    "loan_data.head(1)"
   ]
  },
  {
   "cell_type": "code",
   "execution_count": 33,
   "id": "182a251a",
   "metadata": {
    "scrolled": true
   },
   "outputs": [],
   "source": [
    "## Showing correlation through heatmap\n",
    "#plt.figure(figsize=(7,7))\n",
    "#new=loan_data.drop('Loan_ID',axis=1)\n",
    "#sns.heatmap(new.corr())"
   ]
  },
  {
   "cell_type": "code",
   "execution_count": 34,
   "id": "743cf35d",
   "metadata": {},
   "outputs": [
    {
     "data": {
      "text/plain": [
       "<Axes: xlabel='Property_Area', ylabel='count'>"
      ]
     },
     "execution_count": 34,
     "metadata": {},
     "output_type": "execute_result"
    },
    {
     "data": {
      "image/png": "[encoded data removed]",
      "text/plain": [
       "<Figure size 1500x600 with 1 Axes>"
      ]
     },
     "metadata": {},
     "output_type": "display_data"
    }
   ],
   "source": [
    "plt.figure(figsize=(15,6))\n",
    "sns.countplot(x = 'Property_Area', hue='Loan_Status', data = loan_data)"
   ]
  },
  {
   "cell_type": "markdown",
   "id": "b665effa",
   "metadata": {},
   "source": [
    "   Semiurban obtain more loan, folowed by Urban and then rural.  "
   ]
  },
  {
   "cell_type": "code",
   "execution_count": 35,
   "id": "b5eeac06",
   "metadata": {},
   "outputs": [
    {
     "data": {
      "text/plain": [
       "<Axes: xlabel='Credit_History', ylabel='count'>"
      ]
     },
     "execution_count": 35,
     "metadata": {},
     "output_type": "execute_result"
    },
    {
     "data": {
      "image/png": "[encoded data removed]",
      "text/plain": [
       "<Figure size 1500x600 with 1 Axes>"
      ]
     },
     "metadata": {},
     "output_type": "display_data"
    }
   ],
   "source": [
    "plt.figure(figsize=(15,6))\n",
    "sns.countplot(x = 'Credit_History', hue='Loan_Status', data = loan_data)"
   ]
  },
  {
   "cell_type": "markdown",
   "id": "7d11b0ff",
   "metadata": {},
   "source": [
    "  According to the credit history, greater number of people pay back their loans."
   ]
  },
  {
   "cell_type": "code",
   "execution_count": 36,
   "id": "f204a6fa",
   "metadata": {},
   "outputs": [
    {
     "data": {
      "text/plain": [
       "<Axes: xlabel='Loan_Amount_Term', ylabel='count'>"
      ]
     },
     "execution_count": 36,
     "metadata": {},
     "output_type": "execute_result"
    },
    {
     "data": {
      "image/png": "[encoded data removed]",
      "text/plain": [
       "<Figure size 1500x600 with 1 Axes>"
      ]
     },
     "metadata": {},
     "output_type": "display_data"
    }
   ],
   "source": [
    "plt.figure(figsize=(15,6))\n",
    "sns.countplot(x = 'Loan_Amount_Term', hue='Loan_Status', data = loan_data)"
   ]
  },
  {
   "cell_type": "markdown",
   "id": "54eddaa6",
   "metadata": {},
   "source": [
    "    An extremely high number of them go for a 360 cyclic loan term. That’s pay back within a year"
   ]
  },
  {
   "cell_type": "code",
   "execution_count": 37,
   "id": "88de4120",
   "metadata": {},
   "outputs": [
    {
     "data": {
      "text/plain": [
       "<Axes: xlabel='Self_Employed', ylabel='count'>"
      ]
     },
     "execution_count": 37,
     "metadata": {},
     "output_type": "execute_result"
    },
    {
     "data": {
      "image/png": "[encoded data removed]",
      "text/plain": [
       "<Figure size 1500x600 with 1 Axes>"
      ]
     },
     "metadata": {},
     "output_type": "display_data"
    }
   ],
   "source": [
    "plt.figure(figsize=(15,6))\n",
    "sns.countplot( x = 'Self_Employed', hue = 'Loan_Status', data = loan_data)"
   ]
  },
  {
   "cell_type": "markdown",
   "id": "f940b31d",
   "metadata": {},
   "source": [
    "The category of those that take loans is less of self-employed people. That those who are not self-employed probably salary earners obtain more loan."
   ]
  },
  {
   "cell_type": "markdown",
   "id": "30cf693a",
   "metadata": {},
   "source": [
    "### Model Building and Prediction"
   ]
  },
  {
   "cell_type": "code",
   "execution_count": 38,
   "id": "33ae2760",
   "metadata": {},
   "outputs": [],
   "source": [
    "X = loan_data[['Gender', 'Married', 'ApplicantIncome', 'LoanAmount',\n",
    "'Credit_History']]\n",
    "y = loan_data.Loan_Status"
   ]
  },
  {
   "cell_type": "code",
   "execution_count": 39,
   "id": "0e23c103",
   "metadata": {},
   "outputs": [],
   "source": [
    "# Data Splitting\n",
    "from sklearn.model_selection import train_test_split\n",
    "x_train, x_cv, y_train, y_cv = train_test_split(X,y, test_size = 0.2,random_state = 10)"
   ]
  },
  {
   "cell_type": "code",
   "execution_count": 40,
   "id": "72ec0305",
   "metadata": {},
   "outputs": [],
   "source": [
    "# importing necessary libraies:\n",
    "import sklearn\n",
    "from sklearn.model_selection import train_test_split\n",
    "from sklearn.metrics import mean_absolute_error\n",
    "from sklearn.metrics import mean_squared_error,confusion_matrix,classification_report\n",
    "from sklearn.metrics import r2_score\n",
    "from sklearn.ensemble import GradientBoostingRegressor\n",
    "from sklearn.linear_model import LinearRegression\n",
    "\n",
    "from sklearn.linear_model import LinearRegression\n",
    "from sklearn.ensemble import RandomForestRegressor\n",
    "from sklearn.tree import DecisionTreeRegressor\n",
    "from sklearn.neighbors import KNeighborsRegressor as KNN\n",
    "from sklearn.linear_model import Lasso,Ridge\n",
    "\n",
    "from sklearn.ensemble import RandomForestClassifier,ExtraTreesClassifier\n",
    "from sklearn.linear_model import LogisticRegression\n",
    "from sklearn.svm import SVC\n",
    "from sklearn.ensemble import GradientBoostingClassifier,AdaBoostClassifier,BaggingClassifier\n",
    "from sklearn.metrics import classification_report, confusion_matrix, roc_curve,accuracy_score\n",
    "from sklearn.model_selection import cross_val_score"
   ]
  },
  {
   "cell_type": "code",
   "execution_count": 41,
   "id": "aa2c7aa6",
   "metadata": {},
   "outputs": [
    {
     "name": "stdout",
     "output_type": "stream",
     "text": [
      "R2_score:  0.1817004789272033\n",
      "R2_score on training Date:  88.16413777267509\n",
      "Mean Absolute Error:  0.2939024390243902\n",
      "Mean Squared Error:  0.1694040650406504\n",
      "Rooot Mean Swuared Error:  0.4115872508237474\n"
     ]
    }
   ],
   "source": [
    "# Random Forest Regressor\n",
    "RFR=RandomForestRegressor()\n",
    "RFR.fit(x_train,y_train)\n",
    "pred_RFR=RFR.predict(x_cv)\n",
    "pred_train=RFR.predict(x_train)\n",
    "\n",
    "print('R2_score: ', r2_score(y_cv,pred_RFR))\n",
    "print('R2_score on training Date: ', r2_score(y_train,pred_train)*100)\n",
    "print('Mean Absolute Error: ', mean_absolute_error(y_cv,pred_RFR))\n",
    "print('Mean Squared Error: ', mean_squared_error(y_cv, pred_RFR))\n",
    "print('Rooot Mean Swuared Error: ', np.sqrt(mean_squared_error(y_cv,pred_RFR)))"
   ]
  },
  {
   "cell_type": "code",
   "execution_count": 42,
   "id": "bfb82e48",
   "metadata": {},
   "outputs": [
    {
     "name": "stdout",
     "output_type": "stream",
     "text": [
      "0.7967479674796748\n",
      "[[12 24]\n",
      " [ 1 86]]\n",
      "              precision    recall  f1-score   support\n",
      "\n",
      "           0       0.92      0.33      0.49        36\n",
      "           1       0.78      0.99      0.87        87\n",
      "\n",
      "    accuracy                           0.80       123\n",
      "   macro avg       0.85      0.66      0.68       123\n",
      "weighted avg       0.82      0.80      0.76       123\n",
      "\n"
     ]
    }
   ],
   "source": [
    "# Logistic Regression()\n",
    "LR=LogisticRegression()\n",
    "LR.fit(x_train,y_train)\n",
    "predLR=LR.predict(x_cv)\n",
    "print(accuracy_score(y_cv,predLR))\n",
    "print(confusion_matrix(y_cv,predLR))\n",
    "print(classification_report(y_cv,predLR))"
   ]
  },
  {
   "cell_type": "code",
   "execution_count": 43,
   "id": "d8cad463",
   "metadata": {},
   "outputs": [
    {
     "name": "stdout",
     "output_type": "stream",
     "text": [
      "0.7073170731707317\n",
      "[[ 0 36]\n",
      " [ 0 87]]\n",
      "              precision    recall  f1-score   support\n",
      "\n",
      "           0       0.00      0.00      0.00        36\n",
      "           1       0.71      1.00      0.83        87\n",
      "\n",
      "    accuracy                           0.71       123\n",
      "   macro avg       0.35      0.50      0.41       123\n",
      "weighted avg       0.50      0.71      0.59       123\n",
      "\n"
     ]
    }
   ],
   "source": [
    "# Suport Vector Machine Classifier\n",
    "# Checking accuracy for Suport Vector Machine Classifier\n",
    "svc=SVC()\n",
    "svc.fit(x_train,y_train)\n",
    "predsvc=svc.predict(x_cv)\n",
    "print(accuracy_score(y_cv,predsvc))\n",
    "print(confusion_matrix(y_cv,predsvc))\n",
    "print(classification_report(y_cv,predsvc))"
   ]
  },
  {
   "cell_type": "code",
   "execution_count": 44,
   "id": "9a634d77",
   "metadata": {},
   "outputs": [
    {
     "name": "stdout",
     "output_type": "stream",
     "text": [
      "0.8130081300813008\n",
      "[[15 21]\n",
      " [ 2 85]]\n",
      "              precision    recall  f1-score   support\n",
      "\n",
      "           0       0.88      0.42      0.57        36\n",
      "           1       0.80      0.98      0.88        87\n",
      "\n",
      "    accuracy                           0.81       123\n",
      "   macro avg       0.84      0.70      0.72       123\n",
      "weighted avg       0.83      0.81      0.79       123\n",
      "\n"
     ]
    }
   ],
   "source": [
    "# Gradient Boosting Classifier\n",
    "# Checking accuracy for Gradient Boosting Classifier\n",
    "GB=GradientBoostingClassifier()\n",
    "GB.fit(x_train,y_train)\n",
    "predGB=GB.predict(x_cv)\n",
    "print(accuracy_score(y_cv,predGB))\n",
    "print(confusion_matrix(y_cv,predGB))\n",
    "print(classification_report(y_cv,predGB))"
   ]
  },
  {
   "cell_type": "code",
   "execution_count": 45,
   "id": "99e40c8f",
   "metadata": {},
   "outputs": [
    {
     "name": "stdout",
     "output_type": "stream",
     "text": [
      "0.7642276422764228\n",
      "[[16 20]\n",
      " [ 9 78]]\n",
      "              precision    recall  f1-score   support\n",
      "\n",
      "           0       0.64      0.44      0.52        36\n",
      "           1       0.80      0.90      0.84        87\n",
      "\n",
      "    accuracy                           0.76       123\n",
      "   macro avg       0.72      0.67      0.68       123\n",
      "weighted avg       0.75      0.76      0.75       123\n",
      "\n"
     ]
    }
   ],
   "source": [
    "# RandomForestClassifier\n",
    "# Checking accuracy for RandomForestClasifier\n",
    "RFC= RandomForestClassifier()\n",
    "RFC.fit(x_train,y_train)\n",
    "predRFC=RFC.predict(x_cv)\n",
    "print(accuracy_score(y_cv, predRFC))\n",
    "print(confusion_matrix(y_cv,predRFC))\n",
    "print(classification_report(y_cv,predRFC))"
   ]
  },
  {
   "cell_type": "code",
   "execution_count": 46,
   "id": "f0633adf",
   "metadata": {},
   "outputs": [
    {
     "name": "stdout",
     "output_type": "stream",
     "text": [
      "0.7967479674796748\n",
      "[[13 23]\n",
      " [ 2 85]]\n",
      "              precision    recall  f1-score   support\n",
      "\n",
      "           0       0.87      0.36      0.51        36\n",
      "           1       0.79      0.98      0.87        87\n",
      "\n",
      "    accuracy                           0.80       123\n",
      "   macro avg       0.83      0.67      0.69       123\n",
      "weighted avg       0.81      0.80      0.77       123\n",
      "\n"
     ]
    }
   ],
   "source": [
    "# AddBoost Classfier\n",
    "# Checking accurcy for AdaBoost Classifer\n",
    "ABC=AdaBoostClassifier()\n",
    "ABC.fit(x_train,y_train)\n",
    "predABC =ABC.predict(x_cv)\n",
    "print(accuracy_score(y_cv,predABC))\n",
    "print(confusion_matrix(y_cv,predABC))\n",
    "print(classification_report(y_cv,predABC))"
   ]
  },
  {
   "cell_type": "code",
   "execution_count": 47,
   "id": "11c4a69e",
   "metadata": {},
   "outputs": [
    {
     "name": "stdout",
     "output_type": "stream",
     "text": [
      "0.7154471544715447\n",
      "[[16 20]\n",
      " [15 72]]\n",
      "              precision    recall  f1-score   support\n",
      "\n",
      "           0       0.52      0.44      0.48        36\n",
      "           1       0.78      0.83      0.80        87\n",
      "\n",
      "    accuracy                           0.72       123\n",
      "   macro avg       0.65      0.64      0.64       123\n",
      "weighted avg       0.70      0.72      0.71       123\n",
      "\n"
     ]
    }
   ],
   "source": [
    "# Bagging Classifier\n",
    "# Checking accuracy for BaggingClassifgier\n",
    "BC=BaggingClassifier()\n",
    "BC.fit(x_train,y_train)\n",
    "predBC=BC.predict(x_cv)\n",
    "print(accuracy_score(y_cv,predBC))\n",
    "print(confusion_matrix(y_cv,predBC))\n",
    "print(classification_report(y_cv,predBC))"
   ]
  },
  {
   "cell_type": "code",
   "execution_count": 48,
   "id": "007c40ca",
   "metadata": {},
   "outputs": [
    {
     "name": "stdout",
     "output_type": "stream",
     "text": [
      "0.7560975609756098\n",
      "[[17 19]\n",
      " [11 76]]\n",
      "              precision    recall  f1-score   support\n",
      "\n",
      "           0       0.61      0.47      0.53        36\n",
      "           1       0.80      0.87      0.84        87\n",
      "\n",
      "    accuracy                           0.76       123\n",
      "   macro avg       0.70      0.67      0.68       123\n",
      "weighted avg       0.74      0.76      0.75       123\n",
      "\n"
     ]
    }
   ],
   "source": [
    "# ExtraTreesClassfier\n",
    "# Checking accuracy for ExtraTreesClassifier\n",
    "ET=ExtraTreesClassifier()\n",
    "ET.fit(x_train,y_train)\n",
    "predET=ET.predict(x_cv)\n",
    "print(accuracy_score(y_cv,predET))\n",
    "print(confusion_matrix(y_cv, predET))\n",
    "print(classification_report(y_cv,predET))"
   ]
  },
  {
   "cell_type": "code",
   "execution_count": 49,
   "id": "7ab7d178",
   "metadata": {},
   "outputs": [],
   "source": [
    "# Cross Validation Score\n",
    "from sklearn.model_selection import cross_val_score"
   ]
  },
  {
   "cell_type": "code",
   "execution_count": 50,
   "id": "340e5cda",
   "metadata": {},
   "outputs": [
    {
     "name": "stdout",
     "output_type": "stream",
     "text": [
      "[0.76       0.76       0.68       0.75       0.79166667]\n",
      "0.7483333333333333\n",
      "Difference between Accuracy score and cross validation score is  0.7642276422764228\n"
     ]
    }
   ],
   "source": [
    "# Checking cv score for Random Forest Classifier\n",
    "score=cross_val_score(RFC,x_cv,y_cv)\n",
    "print(score)\n",
    "print(score.mean())\n",
    "print('Difference between Accuracy score and cross validation score is ', accuracy_score(y_cv,predRFC))"
   ]
  },
  {
   "cell_type": "code",
   "execution_count": 51,
   "id": "3502310b",
   "metadata": {},
   "outputs": [
    {
     "name": "stdout",
     "output_type": "stream",
     "text": [
      "[0.72       0.84       0.76       0.875      0.79166667]\n",
      "0.7973333333333333\n",
      "Difference between Accuracy score and cress validation score is -  -0.0005853658536585371\n"
     ]
    }
   ],
   "source": [
    "# Checking cv score for Logistic Regression\n",
    "score=cross_val_score(LR,x_cv,y_cv)\n",
    "print(score)\n",
    "print(score.mean())\n",
    "print('Difference between Accuracy score and cress validation score is - ', accuracy_score(y_cv,predLR)-score.mean())"
   ]
  },
  {
   "cell_type": "code",
   "execution_count": 52,
   "id": "7b54f422",
   "metadata": {},
   "outputs": [
    {
     "name": "stdout",
     "output_type": "stream",
     "text": [
      "[0.68       0.76       0.76       0.79166667 0.66666667]\n",
      "0.7316666666666667\n",
      "Difference Between Accuracy score and cross validation scoreis -  0.08134146341463411\n"
     ]
    }
   ],
   "source": [
    "# Checking cv score for Gradient Boosting Classifier\n",
    "score=cross_val_score(GB,x_cv,y_cv)\n",
    "print(score)\n",
    "print(score.mean())\n",
    "print('Difference Between Accuracy score and cross validation scoreis - ',accuracy_score(y_cv,predGB)-score.mean())"
   ]
  },
  {
   "cell_type": "code",
   "execution_count": 53,
   "id": "7478a10d",
   "metadata": {},
   "outputs": [
    {
     "name": "stdout",
     "output_type": "stream",
     "text": [
      "Score of LR :  0.7967479674796748\n",
      "Score of SVC :  0.7073170731707317\n",
      "Score of GB :  0.8130081300813008\n",
      "Score of RFC :  0.7642276422764228\n",
      "Score of ABC :  0.7967479674796748\n",
      "Score of BC :  0.7154471544715447\n",
      "Score of ET :  0.7560975609756098\n"
     ]
    }
   ],
   "source": [
    "print('Score of LR : ',accuracy_score(y_cv,predLR))\n",
    "print('Score of SVC : ',accuracy_score(y_cv,predsvc))\n",
    "print('Score of GB : ',accuracy_score(y_cv,predGB))\n",
    "print('Score of RFC : ',accuracy_score(y_cv, predRFC))\n",
    "print('Score of ABC : ',accuracy_score(y_cv,predABC))\n",
    "print('Score of BC : ',accuracy_score(y_cv,predBC))\n",
    "print('Score of ET : ',accuracy_score(y_cv,predET))"
   ]
  },
  {
   "cell_type": "markdown",
   "id": "c2b93344",
   "metadata": {},
   "source": [
    "So Finally,\n",
    "* we get the best accuracy score of Gradiant Booster\n",
    "\n",
    "Thanks \n",
    "* Navin Singh"
   ]
  }
 ],
 "metadata": {
  "kernelspec": {
   "display_name": "Python 3 (ipykernel)",
   "language": "python",
   "name": "python3"
  },
  "language_info": {
   "codemirror_mode": {
    "name": "ipython",
    "version": 3
   },
   "file_extension": ".py",
   "mimetype": "text/x-python",
   "name": "python",
   "nbconvert_exporter": "python",
   "pygments_lexer": "ipython3",
   "version": "3.10.12"
  }
 },
 "nbformat": 4,
 "nbformat_minor": 5
}
